{
 "cells": [
  {
   "cell_type": "code",
   "execution_count": 1,
   "metadata": {},
   "outputs": [],
   "source": [
    "import numpy as np\n",
    "import gurobipy as gp\n",
    "from gurobipy import GRB"
   ]
  },
  {
   "cell_type": "code",
   "execution_count": 5,
   "metadata": {},
   "outputs": [],
   "source": [
    "file_name = \"test7_slack6\"\n",
    "n = 200\n",
    "K = 5\n",
    "seed = 5\n",
    "l = 3"
   ]
  },
  {
   "cell_type": "code",
   "execution_count": 8,
   "metadata": {},
   "outputs": [
    {
     "name": "stdout",
     "output_type": "stream",
     "text": [
      "Read LP format model from file ./tests/model_write/test7_slack6_out5.lp\n",
      "Reading time = 0.01 seconds\n",
      ": 204 rows, 238 columns, 6272 nonzeros\n"
     ]
    },
    {
     "name": "stdout",
     "output_type": "stream",
     "text": [
      "204\n"
     ]
    }
   ],
   "source": [
    "model = gp.read(\"./tests/model_write/\" + file_name + \"_out5.lp\")\n",
    "constrs_len = len(model.getConstrs())\n",
    "print(constrs_len)\n",
    "clusters = np.loadtxt(\"./tests/model_matrix/\"+file_name+\"_clusters.txt\")\n",
    "objectives = np.loadtxt(\"./tests/model_matrix/\"+file_name+\"_objectives.txt\")"
   ]
  },
  {
   "cell_type": "code",
   "execution_count": 9,
   "metadata": {},
   "outputs": [],
   "source": [
    "clusters = np.concatenate((clusters,np.ones(clusters.shape[0]).reshape(-1,1)),axis=1)\n",
    "A = [[model.getCoeff(constr, var) for var in model.getVars()] for constr in model.getConstrs()]\n",
    "b = [constr.rhs for constr in model.getConstrs()]\n",
    "c = [var.obj for var in model.getVars()]\n",
    "induced_mat = np.concatenate((clusters[:K,:],np.eye(constrs_len-1,constrs_len),clusters[K:,:]),axis=0).T\n",
    "A = np.array(A)"
   ]
  },
  {
   "cell_type": "code",
   "execution_count": 10,
   "metadata": {},
   "outputs": [
    {
     "data": {
      "text/plain": [
       "True"
      ]
     },
     "execution_count": 10,
     "metadata": {},
     "output_type": "execute_result"
    }
   ],
   "source": [
    "np.allclose(induced_mat[:,:A.shape[1]],A)"
   ]
  },
  {
   "cell_type": "code",
   "execution_count": 67,
   "metadata": {},
   "outputs": [],
   "source": [
    "def get_nonzeros(l):\n",
    "    res = []\n",
    "    for i,j in enumerate(l):\n",
    "        if j != 0:\n",
    "            res.append(i)\n",
    "    #print(l)\n",
    "    print(res)"
   ]
  }
 ],
 "metadata": {
  "kernelspec": {
   "display_name": "Python 3",
   "language": "python",
   "name": "python3"
  },
  "language_info": {
   "codemirror_mode": {
    "name": "ipython",
    "version": 3
   },
   "file_extension": ".py",
   "mimetype": "text/x-python",
   "name": "python",
   "nbconvert_exporter": "python",
   "pygments_lexer": "ipython3",
   "version": "3.10.11"
  }
 },
 "nbformat": 4,
 "nbformat_minor": 2
}
