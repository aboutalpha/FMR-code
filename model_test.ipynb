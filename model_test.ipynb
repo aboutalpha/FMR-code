{
 "cells": [
  {
   "cell_type": "code",
   "execution_count": 19,
   "metadata": {},
   "outputs": [],
   "source": [
    "import numpy as np\n",
    "import gurobipy as gp\n",
    "import matplotlib.pyplot as plt\n",
    "from gurobipy import GRB\n",
    "import re\n",
    "import datetime\n",
    "import ast\n",
    "from tqdm.notebook import tqdm"
   ]
  },
  {
   "cell_type": "code",
   "execution_count": 2,
   "metadata": {},
   "outputs": [],
   "source": [
    "from tests.utils import *"
   ]
  },
  {
   "cell_type": "markdown",
   "metadata": {},
   "source": [
    "## Master problem correctness"
   ]
  },
  {
   "cell_type": "code",
   "execution_count": 15,
   "metadata": {},
   "outputs": [
    {
     "name": "stderr",
     "output_type": "stream",
     "text": [
      "Optimizing Cluster Centers: 100%|██████████| 300/300 [00:00<00:00, 3239.96it/s, Status=SUCCESS]\n"
     ]
    }
   ],
   "source": [
    "file_name = \"test7_slack9\"\n",
    "n = 200\n",
    "K = 5\n",
    "seed = 5\n",
    "l = 3\n",
    "alpha = 1/2\n",
    "beta = [1, 1, 1]\n",
    "lower = 2\n",
    "upper = n\n",
    "M = 1e6\n",
    "np.random.seed(seed)\n",
    "labels = np.random.choice([0, 1, 2], p=[0.1, 0.2, 0.7], size=n)\n",
    "\n",
    "X, Y, archetype = synthetic_data(n, K, seed)\n",
    "_, _, q, clusters_init, _, t = initialize_clusters(\n",
    "    X, K, l, alpha, beta, n, labels, M, lower, upper)"
   ]
  },
  {
   "cell_type": "code",
   "execution_count": 4,
   "metadata": {},
   "outputs": [
    {
     "ename": "NameError",
     "evalue": "name 'clusters_init' is not defined",
     "output_type": "error",
     "traceback": [
      "\u001b[1;31m---------------------------------------------------------------------------\u001b[0m",
      "\u001b[1;31mNameError\u001b[0m                                 Traceback (most recent call last)",
      "Cell \u001b[1;32mIn[4], line 4\u001b[0m\n\u001b[0;32m      2\u001b[0m t_vector \u001b[38;5;241m=\u001b[39m []\n\u001b[0;32m      3\u001b[0m \u001b[38;5;28;01mfor\u001b[39;00m j \u001b[38;5;129;01min\u001b[39;00m \u001b[38;5;28mrange\u001b[39m(l):\n\u001b[1;32m----> 4\u001b[0m     cluster \u001b[38;5;241m=\u001b[39m np\u001b[38;5;241m.\u001b[39marray(\u001b[43mclusters_init\u001b[49m)[i,:n]\n\u001b[0;32m      5\u001b[0m     size \u001b[38;5;241m=\u001b[39m \u001b[38;5;28msum\u001b[39m(cluster)\n\u001b[0;32m      6\u001b[0m     group_size \u001b[38;5;241m=\u001b[39m cluster \u001b[38;5;241m@\u001b[39m q[j]\n",
      "\u001b[1;31mNameError\u001b[0m: name 'clusters_init' is not defined"
     ]
    }
   ],
   "source": [
    "for i in range(K):\n",
    "    t_vector = []\n",
    "    for j in range(l):\n",
    "        cluster = np.array(clusters_init)[i,:n]\n",
    "        size = sum(cluster)\n",
    "        group_size = cluster @ q[j]\n",
    "        if group_size >= alpha * size:\n",
    "            t_vector.append(1)\n",
    "        else:\n",
    "            t_vector.append(0)\n",
    "    print(t_vector)"
   ]
  },
  {
   "cell_type": "code",
   "execution_count": 21,
   "metadata": {},
   "outputs": [
    {
     "data": {
      "text/plain": [
       "array([[1, 0, 1],\n",
       "       [0, 1, 1],\n",
       "       [0, 0, 1],\n",
       "       [1, 0, 1],\n",
       "       [1, 0, 1],\n",
       "       [0, 1, 1],\n",
       "       [0, 1, 1],\n",
       "       [0, 1, 1],\n",
       "       [0, 1, 1],\n",
       "       [0, 1, 1]])"
      ]
     },
     "execution_count": 21,
     "metadata": {},
     "output_type": "execute_result"
    }
   ],
   "source": [
    "np.array(t).T"
   ]
  },
  {
   "cell_type": "code",
   "execution_count": 5,
   "metadata": {},
   "outputs": [
    {
     "name": "stdout",
     "output_type": "stream",
     "text": [
      "Set parameter Username\n",
      "Academic license - for non-commercial use only - expires 2025-02-08\n",
      "Read LP format model from file ./tests/model_write/test7_slack9_out1000.lp\n",
      "Reading time = 0.64 seconds\n",
      ": 204 rows, 10184 columns, 815156 nonzeros\n",
      "204\n"
     ]
    }
   ],
   "source": [
    "model = gp.read(\"./tests/model_write/\" + file_name + \"_out1000.lp\")\n",
    "constrs_len = len(model.getConstrs())\n",
    "print(constrs_len)\n",
    "clusters = np.loadtxt(\"./tests/model_matrix/\"+file_name+\"_clusters.txt\")\n",
    "distances = np.loadtxt(\"./tests/model_matrix/\"+file_name+\"_distances.txt\")\n",
    "slacks = np.loadtxt(\"./tests/model_matrix/\"+file_name+\"_slacks.txt\")\n",
    "solutions = np.loadtxt(\"./tests/model_matrix/\"+file_name+\"_solutions.txt\")\n",
    "objectives = np.loadtxt(\"./tests/model_matrix/\"+file_name+\"_objectives.txt\")"
   ]
  },
  {
   "cell_type": "code",
   "execution_count": 6,
   "metadata": {},
   "outputs": [],
   "source": [
    "clusters = np.concatenate((clusters,np.ones(clusters.shape[0]).reshape(-1,1)),axis=1)\n",
    "A = [[model.getCoeff(constr, var) for var in model.getVars()] for constr in model.getConstrs()]\n",
    "b = [constr.rhs for constr in model.getConstrs()]\n",
    "c = [var.obj for var in model.getVars()]\n",
    "induced_mat = np.concatenate((clusters[:K,:],np.eye(constrs_len-1,constrs_len),clusters[K:,:]),axis=0).T\n",
    "A = np.array(A)"
   ]
  },
  {
   "cell_type": "code",
   "execution_count": 7,
   "metadata": {},
   "outputs": [
    {
     "data": {
      "text/plain": [
       "True"
      ]
     },
     "execution_count": 7,
     "metadata": {},
     "output_type": "execute_result"
    }
   ],
   "source": [
    "np.allclose(induced_mat[:,:A.shape[1]],A)"
   ]
  },
  {
   "cell_type": "code",
   "execution_count": 8,
   "metadata": {},
   "outputs": [],
   "source": [
    "dist_gurobi = np.array(c[:K] + c[K + constrs_len-1:])\n",
    "dist_stored = np.array(distances)[:dist_gurobi.shape[0]]"
   ]
  },
  {
   "cell_type": "code",
   "execution_count": 9,
   "metadata": {},
   "outputs": [
    {
     "data": {
      "text/plain": [
       "True"
      ]
     },
     "execution_count": 9,
     "metadata": {},
     "output_type": "execute_result"
    }
   ],
   "source": [
    "np.allclose(dist_gurobi,dist_stored)"
   ]
  },
  {
   "cell_type": "code",
   "execution_count": 156,
   "metadata": {},
   "outputs": [
    {
     "name": "stdout",
     "output_type": "stream",
     "text": [
      "Gurobi Optimizer version 11.0.0 build v11.0.0rc2 (win64 - Windows 11+.0 (22631.2))\n",
      "\n",
      "CPU model: Intel(R) Core(TM) i7-8550U CPU @ 1.80GHz, instruction set [SSE2|AVX|AVX2]\n",
      "Thread count: 4 physical cores, 8 logical processors, using up to 8 threads\n",
      "\n",
      "Optimize a model with 204 rows, 10184 columns and 815156 nonzeros\n",
      "Model fingerprint: 0x363dd51f\n",
      "Coefficient statistics:\n",
      "  Matrix range     [1e+00, 1e+00]\n",
      "  Objective range  [2e+00, 4e+03]\n",
      "  Bounds range     [0e+00, 0e+00]\n",
      "  RHS range        [1e+00, 5e+00]\n",
      "Presolve removed 0 rows and 666 columns\n",
      "Presolve time: 0.47s\n",
      "Presolved: 204 rows, 9518 columns, 774170 nonzeros\n",
      "\n",
      "Concurrent LP optimizer: dual simplex and barrier\n",
      "Showing barrier log only...\n",
      "\n",
      "Ordering time: 0.00s\n",
      "\n",
      "Barrier statistics:\n",
      " AA' NZ     : 2.061e+04\n",
      " Factor NZ  : 2.091e+04 (roughly 4 MB of memory)\n",
      " Factor Ops : 2.851e+06 (less than 1 second per iteration)\n",
      " Threads    : 3\n",
      "\n",
      "                  Objective                Residual\n",
      "Iter       Primal          Dual         Primal    Dual     Compl     Time\n",
      "   0   3.94637818e+06  0.00000000e+00  3.88e+03 0.00e+00  2.42e+00     1s\n",
      "   1   2.11993025e+05 -2.76423016e+03  2.06e+02 1.81e+00  1.37e-01     1s\n",
      "   2   2.44920618e+04 -2.73137033e+03  2.30e+01 3.01e-01  1.72e-02     1s\n",
      "   3   5.34209812e+03 -1.21829428e+03  3.93e+00 1.29e-01  3.91e-03     1s\n",
      "   4   1.75640894e+03  3.99908351e+01  2.37e-01 2.03e-02  7.48e-04     1s\n",
      "   5   1.45719144e+03  4.49426793e+02  1.44e-01 9.23e-03  4.16e-04     1s\n",
      "   6   1.01993029e+03  5.86804618e+02  4.33e-02 3.99e-03  1.76e-04     1s\n",
      "   7   8.13795044e+02  6.55680794e+02  4.77e-03 1.40e-03  6.51e-05     1s\n",
      "   8   7.53797262e+02  6.79836267e+02  1.46e-03 7.03e-04  3.05e-05     2s\n",
      "   9   7.17036573e+02  6.97728211e+02  1.20e-04 2.37e-04  8.04e-06     2s\n",
      "  10   7.08712783e+02  7.05625767e+02  4.16e-06 4.02e-05  1.29e-06     2s\n",
      "  11   7.07570772e+02  7.07130316e+02  2.37e-07 5.38e-06  1.84e-07     2s\n",
      "  12   7.07448973e+02  7.07354072e+02  3.98e-08 1.04e-06  3.96e-08     2s\n",
      "  13   7.07420385e+02  7.07392084e+02  7.40e-09 3.71e-07  1.18e-08     2s\n",
      "  14   7.07415117e+02  7.07410633e+02  4.82e-09 4.72e-08  1.87e-09     2s\n",
      "  15   7.07413660e+02  7.07413479e+02  3.39e-09 1.77e-10  7.48e-11     2s\n",
      "  16   7.07413575e+02  7.07413568e+02  4.74e-09 3.66e-12  2.83e-12     3s\n",
      "\n",
      "Barrier solved model in 16 iterations and 2.58 seconds (1.53 work units)\n",
      "Optimal objective 7.07413575e+02\n",
      "\n",
      "Crossover log...\n",
      "\n",
      "       8 DPushes remaining with DInf 0.0000000e+00                 3s\n",
      "       0 DPushes remaining with DInf 0.0000000e+00                 3s\n",
      "\n",
      "       3 PPushes remaining with PInf 0.0000000e+00                 3s\n",
      "       0 PPushes remaining with PInf 0.0000000e+00                 3s\n",
      "\n",
      "  Push phase complete: Pinf 0.0000000e+00, Dinf 1.3611334e-13      3s\n",
      "\n",
      "\n",
      "Solved with barrier\n",
      "Iteration    Objective       Primal Inf.    Dual Inf.      Time\n",
      "      14    7.0741357e+02   0.000000e+00   0.000000e+00      3s\n",
      "\n",
      "Solved in 14 iterations and 2.78 seconds (1.59 work units)\n",
      "Optimal objective  7.074135697e+02\n"
     ]
    }
   ],
   "source": [
    "model.optimize()"
   ]
  },
  {
   "cell_type": "code",
   "execution_count": 157,
   "metadata": {},
   "outputs": [
    {
     "data": {
      "text/plain": [
       "707.4135697279462"
      ]
     },
     "execution_count": 157,
     "metadata": {},
     "output_type": "execute_result"
    }
   ],
   "source": [
    "objectives[-1]"
   ]
  },
  {
   "cell_type": "code",
   "execution_count": 158,
   "metadata": {},
   "outputs": [
    {
     "data": {
      "text/plain": [
       "707.4135696685239"
      ]
     },
     "execution_count": 158,
     "metadata": {},
     "output_type": "execute_result"
    }
   ],
   "source": [
    "model.ObjVal"
   ]
  },
  {
   "cell_type": "code",
   "execution_count": 159,
   "metadata": {},
   "outputs": [],
   "source": [
    "last_sol_gurobi = [var.X for var in model.getVars()]\n",
    "last_sol_gurobi_Z = last_sol_gurobi[:K] + last_sol_gurobi[K + constrs_len-1:]\n",
    "last_sol_gurobi_slackness = last_sol_gurobi[K:K + constrs_len-1]"
   ]
  },
  {
   "cell_type": "markdown",
   "metadata": {},
   "source": [
    "check partition constraints"
   ]
  },
  {
   "cell_type": "code",
   "execution_count": 10,
   "metadata": {},
   "outputs": [],
   "source": [
    "partition_constr = [clusters[:solutions[-1].shape[0],i] @ solutions[-1] + slacks[-1][i] for i in range(n)]"
   ]
  },
  {
   "cell_type": "code",
   "execution_count": 11,
   "metadata": {},
   "outputs": [
    {
     "data": {
      "text/plain": [
       "True"
      ]
     },
     "execution_count": 11,
     "metadata": {},
     "output_type": "execute_result"
    }
   ],
   "source": [
    "np.allclose(np.array(partition_constr),np.ones(n))"
   ]
  },
  {
   "cell_type": "markdown",
   "metadata": {},
   "source": [
    "check number of clusters constraint"
   ]
  },
  {
   "cell_type": "code",
   "execution_count": 12,
   "metadata": {},
   "outputs": [
    {
     "data": {
      "text/plain": [
       "True"
      ]
     },
     "execution_count": 12,
     "metadata": {},
     "output_type": "execute_result"
    }
   ],
   "source": [
    "np.sum(solutions[-1]) == K"
   ]
  },
  {
   "cell_type": "markdown",
   "metadata": {},
   "source": [
    "check fairness constraint"
   ]
  },
  {
   "cell_type": "code",
   "execution_count": 18,
   "metadata": {},
   "outputs": [],
   "source": [
    "m = solutions[-1].shape[0]"
   ]
  },
  {
   "cell_type": "code",
   "execution_count": 172,
   "metadata": {},
   "outputs": [
    {
     "data": {
      "text/plain": [
       "886.9812193257434"
      ]
     },
     "execution_count": 172,
     "metadata": {},
     "output_type": "execute_result"
    }
   ],
   "source": [
    "distances[0]"
   ]
  },
  {
   "cell_type": "code",
   "execution_count": 178,
   "metadata": {},
   "outputs": [
    {
     "data": {
      "text/plain": [
       "array([1., 1., 0., 0., 1., 0., 0., 0., 0., 0., 0., 1., 0., 1., 0., 1., 1.,\n",
       "       0., 1., 0., 0., 0., 0., 0., 1., 0., 0., 0., 0., 1., 0., 0., 0., 0.,\n",
       "       0., 0., 0., 0., 0., 1., 0., 0., 1., 1., 0., 0., 0., 0., 0., 0., 0.,\n",
       "       1., 0., 0., 1., 1., 0., 0., 1., 1., 0., 1., 0., 0., 0., 1., 0., 0.,\n",
       "       0., 1., 0., 0., 0., 0., 0., 0., 0., 0., 0., 0., 0., 0., 0., 0., 0.,\n",
       "       0., 1., 0., 0., 0., 0., 0., 1., 0., 0., 1., 0., 0., 1., 0., 1., 0.,\n",
       "       0., 0., 0., 0., 0., 0., 0., 0., 0., 0., 1., 0., 1., 1., 0., 0., 0.,\n",
       "       0., 1., 1., 0., 0., 1., 0., 0., 0., 0., 0., 0., 0., 0., 1., 0., 0.,\n",
       "       0., 0., 0., 0., 0., 0., 0., 1., 0., 1., 1., 1., 0., 1., 0., 0., 0.,\n",
       "       0., 0., 0., 0., 0., 0., 0., 1., 0., 1., 0., 0., 1., 1., 1., 1., 1.,\n",
       "       0., 0., 0., 0., 0., 0., 0., 0., 0., 0., 0., 0., 0., 0., 1., 0., 0.,\n",
       "       0., 0., 1., 1., 0., 0., 0., 0., 1., 0., 0., 0., 0.])"
      ]
     },
     "execution_count": 178,
     "metadata": {},
     "output_type": "execute_result"
    }
   ],
   "source": [
    "clusters[0][:n]"
   ]
  },
  {
   "cell_type": "code",
   "execution_count": 21,
   "metadata": {},
   "outputs": [],
   "source": [
    "t1 = []\n",
    "t2 = []\n",
    "for i in (range(m)):\n",
    "    t_vector = []\n",
    "    for j in range(l):\n",
    "        cluster = clusters[i,:n]\n",
    "        size = sum(cluster)\n",
    "        group_size = cluster @ q[j]\n",
    "        if group_size >= alpha * size:\n",
    "            t_vector.append(1)\n",
    "        else:\n",
    "            t_vector.append(0)\n",
    "    t1.append(t_vector)\n",
    "    t2.append(clusters[i,n:n+l])"
   ]
  },
  {
   "cell_type": "code",
   "execution_count": 28,
   "metadata": {},
   "outputs": [
    {
     "data": {
      "text/plain": [
       "True"
      ]
     },
     "execution_count": 28,
     "metadata": {},
     "output_type": "execute_result"
    }
   ],
   "source": [
    "np.allclose(t1[5:],t2[5:])"
   ]
  },
  {
   "cell_type": "markdown",
   "metadata": {},
   "source": [
    "Gurobi doesn't generate the same solution for the 2 solves, and it may be caused by similar costs of clusters"
   ]
  },
  {
   "cell_type": "code",
   "execution_count": 102,
   "metadata": {},
   "outputs": [
    {
     "data": {
      "text/plain": [
       "9483"
      ]
     },
     "execution_count": 102,
     "metadata": {},
     "output_type": "execute_result"
    }
   ],
   "source": [
    "np.argmax(solutions[-1] - last_sol_gurobi_Z)"
   ]
  },
  {
   "cell_type": "code",
   "execution_count": 104,
   "metadata": {},
   "outputs": [
    {
     "data": {
      "text/plain": [
       "9494"
      ]
     },
     "execution_count": 104,
     "metadata": {},
     "output_type": "execute_result"
    }
   ],
   "source": [
    "np.argmin(solutions[-1] - last_sol_gurobi_Z)"
   ]
  },
  {
   "cell_type": "code",
   "execution_count": 106,
   "metadata": {},
   "outputs": [
    {
     "data": {
      "text/plain": [
       "86.48909234264944"
      ]
     },
     "execution_count": 106,
     "metadata": {},
     "output_type": "execute_result"
    }
   ],
   "source": [
    "distances[9494]"
   ]
  },
  {
   "cell_type": "code",
   "execution_count": 105,
   "metadata": {},
   "outputs": [
    {
     "data": {
      "text/plain": [
       "86.48909234264944"
      ]
     },
     "execution_count": 105,
     "metadata": {},
     "output_type": "execute_result"
    }
   ],
   "source": [
    "distances[9483]"
   ]
  },
  {
   "cell_type": "code",
   "execution_count": 98,
   "metadata": {},
   "outputs": [
    {
     "data": {
      "text/plain": [
       "1.0591600102158837e-06"
      ]
     },
     "execution_count": 98,
     "metadata": {},
     "output_type": "execute_result"
    }
   ],
   "source": [
    "np.max(slacks[-1] - last_sol_gurobi_slackness)"
   ]
  },
  {
   "cell_type": "code",
   "execution_count": 77,
   "metadata": {},
   "outputs": [
    {
     "data": {
      "text/plain": [
       "0.0"
      ]
     },
     "execution_count": 77,
     "metadata": {},
     "output_type": "execute_result"
    }
   ],
   "source": [
    "solutions[-1][9494]"
   ]
  },
  {
   "cell_type": "code",
   "execution_count": 78,
   "metadata": {},
   "outputs": [
    {
     "data": {
      "text/plain": [
       "0.30371333887479834"
      ]
     },
     "execution_count": 78,
     "metadata": {},
     "output_type": "execute_result"
    }
   ],
   "source": [
    "last_sol_gurobi_Z[9494]"
   ]
  },
  {
   "cell_type": "markdown",
   "metadata": {},
   "source": [
    "## Visualizations"
   ]
  },
  {
   "cell_type": "markdown",
   "metadata": {},
   "source": [
    "## Parameters"
   ]
  },
  {
   "cell_type": "code",
   "execution_count": 23,
   "metadata": {},
   "outputs": [],
   "source": [
    "Zvars = model.getVars()[:K] + model.getVars()[K + constrs_len-1:]\n",
    "Slack_vars_partition = model.getVars()[K : K + n]\n",
    "Slack_vars_represent = model.getVars()[K + n : K + n + l]"
   ]
  },
  {
   "cell_type": "code",
   "execution_count": 24,
   "metadata": {},
   "outputs": [
    {
     "data": {
      "text/plain": [
       "True"
      ]
     },
     "execution_count": 24,
     "metadata": {},
     "output_type": "execute_result"
    }
   ],
   "source": [
    "len(Zvars) + len(Slack_vars_partition) + len(Slack_vars_represent) == len(model.getVars())"
   ]
  },
  {
   "cell_type": "code",
   "execution_count": 25,
   "metadata": {},
   "outputs": [
    {
     "name": "stdout",
     "output_type": "stream",
     "text": [
      "Gurobi Optimizer version 11.0.0 build v11.0.0rc2 (win64 - Windows 11+.0 (22631.2))\n",
      "\n",
      "CPU model: Intel(R) Core(TM) i7-8550U CPU @ 1.80GHz, instruction set [SSE2|AVX|AVX2]\n",
      "Thread count: 4 physical cores, 8 logical processors, using up to 8 threads\n",
      "\n",
      "Optimize a model with 204 rows, 10184 columns and 815156 nonzeros\n",
      "Model fingerprint: 0x2d71cc41\n",
      "Coefficient statistics:\n",
      "  Matrix range     [1e+00, 1e+00]\n",
      "  Objective range  [2e+00, 4e+03]\n",
      "  Bounds range     [0e+00, 0e+00]\n",
      "  RHS range        [1e+00, 5e+00]\n"
     ]
    },
    {
     "name": "stdout",
     "output_type": "stream",
     "text": [
      "Presolve removed 3 rows and 869 columns\n",
      "Presolve time: 0.42s\n",
      "Presolved: 201 rows, 9315 columns, 765410 nonzeros\n",
      "\n",
      "Concurrent LP optimizer: dual simplex and barrier\n",
      "Showing barrier log only...\n",
      "\n",
      "Ordering time: 0.01s\n",
      "\n",
      "Barrier statistics:\n",
      " AA' NZ     : 2.010e+04\n",
      " Factor NZ  : 2.030e+04 (roughly 4 MB of memory)\n",
      " Factor Ops : 2.727e+06 (less than 1 second per iteration)\n",
      " Threads    : 3\n",
      "\n",
      "Barrier performed 0 iterations in 0.67 seconds (0.34 work units)\n",
      "Barrier solve interrupted - model solved by another algorithm\n",
      "\n",
      "\n",
      "Solved with dual simplex\n",
      "Iteration    Objective       Primal Inf.    Dual Inf.      Time\n",
      "       6    2.9098429e+01   0.000000e+00   0.000000e+00      1s\n",
      "\n",
      "Solved in 6 iterations and 0.77 seconds (0.36 work units)\n",
      "Optimal objective  2.909842886e+01\n"
     ]
    }
   ],
   "source": [
    "objective = gp.quicksum(Zvars[i] * dist_gurobi[i] for i in range(len(Zvars))) + \\\n",
    "    gp.quicksum(i * 0 for i in Slack_vars_partition) + \\\n",
    "    gp.quicksum(i * 0 for i in Slack_vars_represent)\n",
    "model.setObjective(objective, GRB.MINIMIZE)\n",
    "model.optimize()"
   ]
  },
  {
   "cell_type": "code",
   "execution_count": 26,
   "metadata": {},
   "outputs": [],
   "source": [
    "c2 = [var.obj for var in model.getVars()]"
   ]
  },
  {
   "cell_type": "code",
   "execution_count": 27,
   "metadata": {},
   "outputs": [
    {
     "data": {
      "text/plain": [
       "False"
      ]
     },
     "execution_count": 27,
     "metadata": {},
     "output_type": "execute_result"
    }
   ],
   "source": [
    "c2 == c"
   ]
  },
  {
   "cell_type": "code",
   "execution_count": 47,
   "metadata": {},
   "outputs": [],
   "source": [
    "def get_nonzeros(l):\n",
    "    res = []\n",
    "    for i,j in enumerate(l):\n",
    "        if j != 0:\n",
    "            res.append(i)\n",
    "    #print(l)\n",
    "    print(res)"
   ]
  }
 ],
 "metadata": {
  "kernelspec": {
   "display_name": "Python 3",
   "language": "python",
   "name": "python3"
  },
  "language_info": {
   "codemirror_mode": {
    "name": "ipython",
    "version": 3
   },
   "file_extension": ".py",
   "mimetype": "text/x-python",
   "name": "python",
   "nbconvert_exporter": "python",
   "pygments_lexer": "ipython3",
   "version": "3.10.11"
  }
 },
 "nbformat": 4,
 "nbformat_minor": 2
}
