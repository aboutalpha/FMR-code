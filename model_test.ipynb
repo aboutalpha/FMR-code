{
 "cells": [
  {
   "cell_type": "code",
   "execution_count": 173,
   "metadata": {},
   "outputs": [],
   "source": [
    "import numpy as np\n",
    "import gurobipy as gp\n",
    "import matplotlib.pyplot as plt\n",
    "from gurobipy import GRB\n",
    "import re\n",
    "import datetime\n",
    "import ast\n",
    "from tqdm.notebook import tqdm"
   ]
  },
  {
   "cell_type": "code",
   "execution_count": 174,
   "metadata": {},
   "outputs": [],
   "source": [
    "from tests.utils import *"
   ]
  },
  {
   "cell_type": "markdown",
   "metadata": {},
   "source": [
    "## Master problem correctness"
   ]
  },
  {
   "cell_type": "code",
   "execution_count": 238,
   "metadata": {},
   "outputs": [
    {
     "name": "stderr",
     "output_type": "stream",
     "text": [
      "Optimizing Cluster Centers: 100%|██████████| 300/300 [00:00<00:00, 3042.05it/s, Status=SUCCESS]\n"
     ]
    }
   ],
   "source": [
    "file_name = \"test7_slack12\"\n",
    "n = 200\n",
    "K = 5\n",
    "seed = 5\n",
    "l = 3\n",
    "alpha = 1/2\n",
    "beta = [1, 1, 1]\n",
    "lower = 2\n",
    "upper = n\n",
    "M = 1e6\n",
    "np.random.seed(seed)\n",
    "labels = np.random.choice([0, 1, 2], p=[0.1, 0.2, 0.7], size=n)\n",
    "\n",
    "X, Y, archetype = synthetic_data(n, K, seed)\n",
    "_, _, q, clusters_init, _, t = initialize_clusters(\n",
    "    X, K, l, alpha, beta, n, labels, M, lower, upper)"
   ]
  },
  {
   "cell_type": "code",
   "execution_count": 176,
   "metadata": {},
   "outputs": [
    {
     "name": "stdout",
     "output_type": "stream",
     "text": [
      "Read LP format model from file ./tests/model_write/test7_slack12_out1000.lp\n",
      "Reading time = 0.65 seconds\n",
      ": 204 rows, 9587 columns, 794929 nonzeros\n",
      "204\n"
     ]
    }
   ],
   "source": [
    "model = gp.read(\"./tests/model_write/\" + file_name + \"_out1000.lp\")\n",
    "constrs_len = len(model.getConstrs())\n",
    "print(constrs_len)\n",
    "clusters = np.loadtxt(\"./tests/model_matrix/\"+file_name+\"_clusters.txt\")\n",
    "distances = np.loadtxt(\"./tests/model_matrix/\"+file_name+\"_distances.txt\")\n",
    "slacks = np.loadtxt(\"./tests/model_matrix/\"+file_name+\"_slacks.txt\")\n",
    "solutions = np.loadtxt(\"./tests/model_matrix/\"+file_name+\"_solutions.txt\")\n",
    "objectives = np.loadtxt(\"./tests/model_matrix/\"+file_name+\"_objectives.txt\")"
   ]
  },
  {
   "cell_type": "code",
   "execution_count": 177,
   "metadata": {},
   "outputs": [],
   "source": [
    "clusters = np.concatenate((clusters,np.ones(clusters.shape[0]).reshape(-1,1)),axis=1)\n",
    "A = [[model.getCoeff(constr, var) for var in model.getVars()] for constr in model.getConstrs()]\n",
    "b = [constr.rhs for constr in model.getConstrs()]\n",
    "c = [var.obj for var in model.getVars()]\n",
    "induced_mat = np.concatenate((clusters[:K,:],np.eye(constrs_len-1,constrs_len),clusters[K:,:]),axis=0).T\n",
    "A = np.array(A)"
   ]
  },
  {
   "cell_type": "markdown",
   "metadata": {},
   "source": [
    "Compare the linear system of constraints from the last iteration of Gurobi with the cluster representations"
   ]
  },
  {
   "cell_type": "code",
   "execution_count": 178,
   "metadata": {},
   "outputs": [
    {
     "data": {
      "text/plain": [
       "True"
      ]
     },
     "execution_count": 178,
     "metadata": {},
     "output_type": "execute_result"
    }
   ],
   "source": [
    "np.allclose(induced_mat[:,:A.shape[1]],A)"
   ]
  },
  {
   "cell_type": "code",
   "execution_count": 179,
   "metadata": {},
   "outputs": [],
   "source": [
    "dist_gurobi = np.array(c[:K] + c[K + constrs_len-1:])\n",
    "dist_stored = np.array(distances)[:dist_gurobi.shape[0]]"
   ]
  },
  {
   "cell_type": "markdown",
   "metadata": {},
   "source": [
    "Compare the coefficients of variables in the objective from the last iteration of Gurobi with the cluster representations"
   ]
  },
  {
   "cell_type": "code",
   "execution_count": 180,
   "metadata": {},
   "outputs": [
    {
     "data": {
      "text/plain": [
       "True"
      ]
     },
     "execution_count": 180,
     "metadata": {},
     "output_type": "execute_result"
    }
   ],
   "source": [
    "np.allclose(dist_gurobi,dist_stored)"
   ]
  },
  {
   "cell_type": "markdown",
   "metadata": {},
   "source": [
    "Reoptimize the model using the Gurobi output of the master problem from the last iteration"
   ]
  },
  {
   "cell_type": "code",
   "execution_count": 181,
   "metadata": {},
   "outputs": [
    {
     "name": "stdout",
     "output_type": "stream",
     "text": [
      "Gurobi Optimizer version 11.0.0 build v11.0.0rc2 (win64 - Windows 11+.0 (22631.2))\n",
      "\n",
      "CPU model: Intel(R) Core(TM) i7-8550U CPU @ 1.80GHz, instruction set [SSE2|AVX|AVX2]\n",
      "Thread count: 4 physical cores, 8 logical processors, using up to 8 threads\n",
      "\n",
      "Optimize a model with 204 rows, 9587 columns and 794929 nonzeros\n",
      "Model fingerprint: 0x85c27925\n",
      "Coefficient statistics:\n",
      "  Matrix range     [1e+00, 1e+00]\n",
      "  Objective range  [1e-01, 3e+03]\n",
      "  Bounds range     [0e+00, 0e+00]\n",
      "  RHS range        [1e+00, 5e+00]\n",
      "Presolve time: 0.58s\n",
      "Presolved: 204 rows, 9587 columns, 794929 nonzeros\n",
      "\n",
      "Concurrent LP optimizer: dual simplex and barrier\n",
      "Showing barrier log only...\n",
      "\n",
      "Ordering time: 0.00s\n",
      "\n",
      "Barrier statistics:\n",
      " AA' NZ     : 2.065e+04\n",
      " Factor NZ  : 2.091e+04 (roughly 4 MB of memory)\n",
      " Factor Ops : 2.851e+06 (less than 1 second per iteration)\n",
      " Threads    : 3\n",
      "\n",
      "                  Objective                Residual\n",
      "Iter       Primal          Dual         Primal    Dual     Compl     Time\n",
      "   0   3.20714748e+06  0.00000000e+00  3.16e+03 0.00e+00  2.13e+01     1s\n",
      "   1   9.06173761e+04 -4.89696928e+03  8.82e+01 5.64e+00  6.52e-01     1s\n",
      "   2   8.25239426e+03 -3.33647834e+03  7.07e+00 8.89e-01  6.71e-02     1s\n",
      "   3   3.40069472e+03 -2.06890787e+03  1.85e+00 5.62e-01  2.61e-02     1s\n",
      "   4   2.13637866e+03 -1.08401601e+02  5.57e-01 1.15e-01  7.94e-03     1s\n",
      "   5   1.40041348e+03  4.90135913e+02  9.47e-02 4.27e-02  3.00e-03     1s\n",
      "   6   1.07683991e+03  6.01265026e+02  3.03e-02 2.01e-02  1.55e-03     2s\n",
      "   7   9.11048754e+02  7.30786183e+02  6.34e-03 5.55e-03  5.87e-04     2s\n",
      "   8   8.54073816e+02  7.55823542e+02  2.84e-03 2.93e-03  3.20e-04     2s\n",
      "   9   8.07116860e+02  7.77689910e+02  5.62e-04 5.98e-04  9.58e-05     2s\n",
      "  10   7.90182787e+02  7.84247998e+02  5.16e-05 9.74e-05  1.94e-05     2s\n",
      "  11   7.86542235e+02  7.85913555e+02  1.36e-06 4.63e-06  2.05e-06     2s\n",
      "  12   7.86320325e+02  7.86013780e+02  5.49e-07 2.36e-06  1.00e-06     2s\n",
      "  13   7.86195165e+02  7.86082647e+02  1.69e-07 7.34e-07  3.68e-07     2s\n",
      "  14   7.86137416e+02  7.86125105e+02  6.10e-09 1.09e-08  4.01e-08     3s\n",
      "\n",
      "Barrier performed 14 iterations in 2.53 seconds (1.28 work units)\n",
      "Barrier solve interrupted - model solved by another algorithm\n",
      "\n",
      "\n",
      "Solved with dual simplex\n",
      "Iteration    Objective       Primal Inf.    Dual Inf.      Time\n",
      "     647    7.8612971e+02   0.000000e+00   0.000000e+00      3s\n",
      "\n",
      "Solved in 647 iterations and 2.57 seconds (1.14 work units)\n",
      "Optimal objective  7.861297149e+02\n"
     ]
    }
   ],
   "source": [
    "model.optimize()"
   ]
  },
  {
   "cell_type": "code",
   "execution_count": 182,
   "metadata": {},
   "outputs": [
    {
     "data": {
      "text/plain": [
       "(786.1297149421915, 786.129714942192)"
      ]
     },
     "execution_count": 182,
     "metadata": {},
     "output_type": "execute_result"
    }
   ],
   "source": [
    "objectives[-1], model.ObjVal"
   ]
  },
  {
   "cell_type": "code",
   "execution_count": 183,
   "metadata": {},
   "outputs": [],
   "source": [
    "last_sol_gurobi = [var.X for var in model.getVars()]\n",
    "last_sol_gurobi_Z = last_sol_gurobi[:K] + last_sol_gurobi[K + constrs_len-1:]\n",
    "last_sol_gurobi_slackness = last_sol_gurobi[K:K + constrs_len-1]"
   ]
  },
  {
   "cell_type": "code",
   "execution_count": 195,
   "metadata": {},
   "outputs": [
    {
     "data": {
      "text/plain": [
       "True"
      ]
     },
     "execution_count": 195,
     "metadata": {},
     "output_type": "execute_result"
    }
   ],
   "source": [
    "np.allclose(last_sol_gurobi_Z, solutions[-1], atol = 1e-5)"
   ]
  },
  {
   "cell_type": "markdown",
   "metadata": {},
   "source": [
    "check partition constraints"
   ]
  },
  {
   "cell_type": "code",
   "execution_count": 224,
   "metadata": {},
   "outputs": [],
   "source": [
    "valid = True\n",
    "for j in range(0,1000,20):\n",
    "    partition_constr = [clusters[:solutions[j].shape[0],i] @ solutions[j] + slacks[j][i] for i in range(n)]\n",
    "    valid = valid and (np.allclose(np.array(partition_constr),np.ones(n),rtol=1e-3))"
   ]
  },
  {
   "cell_type": "code",
   "execution_count": 223,
   "metadata": {},
   "outputs": [
    {
     "name": "stdout",
     "output_type": "stream",
     "text": [
      "True\n"
     ]
    }
   ],
   "source": [
    "print(valid)"
   ]
  },
  {
   "cell_type": "markdown",
   "metadata": {},
   "source": [
    "check number of clusters constraint"
   ]
  },
  {
   "cell_type": "code",
   "execution_count": 225,
   "metadata": {},
   "outputs": [
    {
     "data": {
      "text/plain": [
       "5.0"
      ]
     },
     "execution_count": 225,
     "metadata": {},
     "output_type": "execute_result"
    }
   ],
   "source": [
    "np.sum(solutions[-1])"
   ]
  },
  {
   "cell_type": "markdown",
   "metadata": {},
   "source": [
    "checks the cluster representation of t of the same as the t in the LP"
   ]
  },
  {
   "cell_type": "code",
   "execution_count": 199,
   "metadata": {},
   "outputs": [],
   "source": [
    "m = solutions[-1].shape[0]"
   ]
  },
  {
   "cell_type": "code",
   "execution_count": 200,
   "metadata": {},
   "outputs": [],
   "source": [
    "t1 = []\n",
    "t2 = []\n",
    "for i in (range(m)):\n",
    "    t_vector = []\n",
    "    for j in range(l):\n",
    "        cluster = clusters[i,:n]\n",
    "        size = sum(cluster)\n",
    "        group_size = cluster @ q[j]\n",
    "        if group_size >= alpha * size:\n",
    "            t_vector.append(1)\n",
    "        else:\n",
    "            t_vector.append(0)\n",
    "    t1.append(t_vector)\n",
    "    t2.append(clusters[i,n:n+l])"
   ]
  },
  {
   "cell_type": "code",
   "execution_count": 201,
   "metadata": {},
   "outputs": [
    {
     "data": {
      "text/plain": [
       "True"
      ]
     },
     "execution_count": 201,
     "metadata": {},
     "output_type": "execute_result"
    }
   ],
   "source": [
    "np.allclose(t1,t2,rtol=1e-3)"
   ]
  },
  {
   "cell_type": "markdown",
   "metadata": {},
   "source": [
    "check fairness constraint"
   ]
  },
  {
   "cell_type": "code",
   "execution_count": 226,
   "metadata": {},
   "outputs": [
    {
     "name": "stdout",
     "output_type": "stream",
     "text": [
      "1.000003802141342\n",
      "0.9999978573416903\n",
      "4.485950000000001\n"
     ]
    }
   ],
   "source": [
    "for i in range(n,n+l):\n",
    "    print(solutions[-1] @ clusters[:solutions[-1].shape[0],i] + slacks[-1][i])"
   ]
  },
  {
   "cell_type": "markdown",
   "metadata": {},
   "source": [
    "compares the solutions from Gurobi's log file with the stored solutions"
   ]
  },
  {
   "cell_type": "code",
   "execution_count": 204,
   "metadata": {},
   "outputs": [],
   "source": [
    "import pandas as pd"
   ]
  },
  {
   "cell_type": "code",
   "execution_count": 205,
   "metadata": {},
   "outputs": [],
   "source": [
    "df = pd.read_csv(\"./tests/model_write/\" + file_name + \"_out501.sol\", sep = \" \")"
   ]
  },
  {
   "cell_type": "code",
   "execution_count": 206,
   "metadata": {},
   "outputs": [],
   "source": [
    "last_solution_gurobi = df['Solution'][1:].to_numpy(dtype=float)"
   ]
  },
  {
   "cell_type": "code",
   "execution_count": 207,
   "metadata": {},
   "outputs": [],
   "source": [
    "last_solution_gurobi_Z = np.concatenate((last_solution_gurobi[:K], last_solution_gurobi[K + constrs_len - 1:]))"
   ]
  },
  {
   "cell_type": "code",
   "execution_count": 208,
   "metadata": {},
   "outputs": [],
   "source": [
    "last_solution_gurobi_slackness = last_solution_gurobi[K:K + constrs_len - 1]"
   ]
  },
  {
   "cell_type": "code",
   "execution_count": 209,
   "metadata": {},
   "outputs": [
    {
     "data": {
      "text/plain": [
       "True"
      ]
     },
     "execution_count": 209,
     "metadata": {},
     "output_type": "execute_result"
    }
   ],
   "source": [
    "np.allclose(last_solution_gurobi_slackness, slacks[500], atol = 1e-3)"
   ]
  },
  {
   "cell_type": "code",
   "execution_count": 210,
   "metadata": {},
   "outputs": [
    {
     "data": {
      "text/plain": [
       "True"
      ]
     },
     "execution_count": 210,
     "metadata": {},
     "output_type": "execute_result"
    }
   ],
   "source": [
    "np.allclose(last_solution_gurobi_Z, solutions[500][:last_solution_gurobi_Z.shape[0]], atol = 1e-3)"
   ]
  },
  {
   "cell_type": "markdown",
   "metadata": {},
   "source": [
    "## Visualizations"
   ]
  },
  {
   "cell_type": "code",
   "execution_count": 227,
   "metadata": {},
   "outputs": [
    {
     "data": {
      "image/png": "[encoded data removed]",
      "text/plain": [
       "<Figure size 640x480 with 1 Axes>"
      ]
     },
     "metadata": {},
     "output_type": "display_data"
    }
   ],
   "source": [
    "partition_slacks = [20 * sum(i[:n]) for i in slacks]\n",
    "fairness_slacks = [100 * sum(i[n:]) for i in slacks]\n",
    "plt.plot(objectives, label = \"Total objective\")\n",
    "plt.plot(partition_slacks, label = \"Contribution of partition slackness\")\n",
    "plt.plot(fairness_slacks, label = \"Contribution of fairness slackness\")\n",
    "plt.legend()\n",
    "plt.show()"
   ]
  },
  {
   "cell_type": "code",
   "execution_count": 228,
   "metadata": {},
   "outputs": [],
   "source": [
    "import seaborn as sns"
   ]
  },
  {
   "cell_type": "code",
   "execution_count": 230,
   "metadata": {},
   "outputs": [],
   "source": [
    "cmap = sns.cm.rocket_r"
   ]
  },
  {
   "cell_type": "code",
   "execution_count": 231,
   "metadata": {},
   "outputs": [],
   "source": [
    "fig = plt.figure(dpi = 1000)\n",
    "sns.heatmap(solutions,cmap = cmap,vmax = 0.1)\n",
    "fig.savefig(\"./tests/images/heatmap_\"+ file_name +\".png\")\n",
    "plt.close()"
   ]
  },
  {
   "cell_type": "code",
   "execution_count": 306,
   "metadata": {},
   "outputs": [],
   "source": [
    "def create_df(solution):\n",
    "    indices = list(range(len(solution)))\n",
    "    indices_sorted = sorted(indices,key= lambda i : -solution[i])\n",
    "    solutions_sorted = np.array(solution)[indices_sorted]\n",
    "    fairness_rep = [tuple(c[n:n+l]) for c in clusters[indices_sorted]]\n",
    "    df = pd.DataFrame({\"Cluster Number\": indices_sorted, \n",
    "                        \"Solution\": solutions_sorted,\n",
    "                        \"Cluster cost\": np.array(distances)[indices_sorted], \n",
    "                        \"Size of cluster\": np.sum(np.array(clusters)[indices_sorted,:n],axis = 1),\n",
    "                        \"Fairness\": fairness_rep})\n",
    "    \n",
    "    coverages,overlaps = coverage(list(df['Cluster Number']))\n",
    "    df['coverage'] = coverages\n",
    "    df['overlap'] = overlaps\n",
    "    \n",
    "    return df"
   ]
  },
  {
   "cell_type": "code",
   "execution_count": 307,
   "metadata": {},
   "outputs": [],
   "source": [
    "def coverage(cluster_nums):\n",
    "    cover = np.zeros(n)\n",
    "    coverages = []\n",
    "    overlaps = []\n",
    "    for i in cluster_nums:\n",
    "        cover += clusters[i][:n]\n",
    "        coverage = 0\n",
    "        overlap = 0\n",
    "        for i in cover:\n",
    "            if i > 0:\n",
    "                coverage += 1\n",
    "            if i > 1:\n",
    "                overlap += i - 1\n",
    "        coverages.append(coverage)\n",
    "        overlaps.append(overlap)\n",
    "    return coverages,overlaps"
   ]
  },
  {
   "cell_type": "code",
   "execution_count": 308,
   "metadata": {},
   "outputs": [],
   "source": [
    "df = create_df(solutions[-1])"
   ]
  },
  {
   "cell_type": "code",
   "execution_count": 309,
   "metadata": {},
   "outputs": [
    {
     "data": {
      "text/html": [
       "<div>\n",
       "<style scoped>\n",
       "    .dataframe tbody tr th:only-of-type {\n",
       "        vertical-align: middle;\n",
       "    }\n",
       "\n",
       "    .dataframe tbody tr th {\n",
       "        vertical-align: top;\n",
       "    }\n",
       "\n",
       "    .dataframe thead th {\n",
       "        text-align: right;\n",
       "    }\n",
       "</style>\n",
       "<table border=\"1\" class=\"dataframe\">\n",
       "  <thead>\n",
       "    <tr style=\"text-align: right;\">\n",
       "      <th></th>\n",
       "      <th>Cluster Number</th>\n",
       "      <th>Solution</th>\n",
       "      <th>Cluster cost</th>\n",
       "      <th>Size of cluster</th>\n",
       "      <th>Fairness</th>\n",
       "      <th>coverage</th>\n",
       "      <th>overlap</th>\n",
       "    </tr>\n",
       "  </thead>\n",
       "  <tbody>\n",
       "    <tr>\n",
       "      <th>0</th>\n",
       "      <td>4891</td>\n",
       "      <td>0.65305</td>\n",
       "      <td>34.312407</td>\n",
       "      <td>24.0</td>\n",
       "      <td>(0.0, 0.0, 1.0)</td>\n",
       "      <td>24</td>\n",
       "      <td>0.0</td>\n",
       "    </tr>\n",
       "    <tr>\n",
       "      <th>1</th>\n",
       "      <td>8018</td>\n",
       "      <td>0.36538</td>\n",
       "      <td>68.255547</td>\n",
       "      <td>42.0</td>\n",
       "      <td>(0.0, 0.0, 1.0)</td>\n",
       "      <td>66</td>\n",
       "      <td>0.0</td>\n",
       "    </tr>\n",
       "    <tr>\n",
       "      <th>2</th>\n",
       "      <td>6948</td>\n",
       "      <td>0.24385</td>\n",
       "      <td>35.991562</td>\n",
       "      <td>26.0</td>\n",
       "      <td>(0.0, 0.0, 1.0)</td>\n",
       "      <td>92</td>\n",
       "      <td>0.0</td>\n",
       "    </tr>\n",
       "    <tr>\n",
       "      <th>3</th>\n",
       "      <td>5795</td>\n",
       "      <td>0.19067</td>\n",
       "      <td>153.832743</td>\n",
       "      <td>41.0</td>\n",
       "      <td>(0.0, 0.0, 1.0)</td>\n",
       "      <td>109</td>\n",
       "      <td>24.0</td>\n",
       "    </tr>\n",
       "    <tr>\n",
       "      <th>4</th>\n",
       "      <td>7771</td>\n",
       "      <td>0.16965</td>\n",
       "      <td>115.546333</td>\n",
       "      <td>41.0</td>\n",
       "      <td>(0.0, 0.0, 1.0)</td>\n",
       "      <td>138</td>\n",
       "      <td>36.0</td>\n",
       "    </tr>\n",
       "    <tr>\n",
       "      <th>5</th>\n",
       "      <td>6906</td>\n",
       "      <td>0.15837</td>\n",
       "      <td>81.923156</td>\n",
       "      <td>16.0</td>\n",
       "      <td>(1.0, 1.0, 0.0)</td>\n",
       "      <td>138</td>\n",
       "      <td>52.0</td>\n",
       "    </tr>\n",
       "    <tr>\n",
       "      <th>6</th>\n",
       "      <td>6732</td>\n",
       "      <td>0.15190</td>\n",
       "      <td>90.552838</td>\n",
       "      <td>46.0</td>\n",
       "      <td>(0.0, 0.0, 1.0)</td>\n",
       "      <td>183</td>\n",
       "      <td>53.0</td>\n",
       "    </tr>\n",
       "    <tr>\n",
       "      <th>7</th>\n",
       "      <td>5728</td>\n",
       "      <td>0.14191</td>\n",
       "      <td>63.848650</td>\n",
       "      <td>40.0</td>\n",
       "      <td>(0.0, 0.0, 1.0)</td>\n",
       "      <td>189</td>\n",
       "      <td>87.0</td>\n",
       "    </tr>\n",
       "    <tr>\n",
       "      <th>8</th>\n",
       "      <td>4992</td>\n",
       "      <td>0.14137</td>\n",
       "      <td>40.790274</td>\n",
       "      <td>27.0</td>\n",
       "      <td>(0.0, 0.0, 1.0)</td>\n",
       "      <td>189</td>\n",
       "      <td>114.0</td>\n",
       "    </tr>\n",
       "    <tr>\n",
       "      <th>9</th>\n",
       "      <td>7809</td>\n",
       "      <td>0.13974</td>\n",
       "      <td>175.190601</td>\n",
       "      <td>51.0</td>\n",
       "      <td>(0.0, 0.0, 1.0)</td>\n",
       "      <td>191</td>\n",
       "      <td>163.0</td>\n",
       "    </tr>\n",
       "    <tr>\n",
       "      <th>10</th>\n",
       "      <td>6725</td>\n",
       "      <td>0.13279</td>\n",
       "      <td>128.153032</td>\n",
       "      <td>50.0</td>\n",
       "      <td>(0.0, 0.0, 1.0)</td>\n",
       "      <td>199</td>\n",
       "      <td>205.0</td>\n",
       "    </tr>\n",
       "    <tr>\n",
       "      <th>11</th>\n",
       "      <td>6087</td>\n",
       "      <td>0.12961</td>\n",
       "      <td>190.302710</td>\n",
       "      <td>56.0</td>\n",
       "      <td>(0.0, 0.0, 1.0)</td>\n",
       "      <td>199</td>\n",
       "      <td>261.0</td>\n",
       "    </tr>\n",
       "    <tr>\n",
       "      <th>12</th>\n",
       "      <td>7211</td>\n",
       "      <td>0.08030</td>\n",
       "      <td>105.299062</td>\n",
       "      <td>44.0</td>\n",
       "      <td>(0.0, 0.0, 1.0)</td>\n",
       "      <td>199</td>\n",
       "      <td>305.0</td>\n",
       "    </tr>\n",
       "    <tr>\n",
       "      <th>13</th>\n",
       "      <td>8428</td>\n",
       "      <td>0.07613</td>\n",
       "      <td>181.348195</td>\n",
       "      <td>44.0</td>\n",
       "      <td>(0.0, 0.0, 1.0)</td>\n",
       "      <td>199</td>\n",
       "      <td>349.0</td>\n",
       "    </tr>\n",
       "    <tr>\n",
       "      <th>14</th>\n",
       "      <td>8528</td>\n",
       "      <td>0.06781</td>\n",
       "      <td>67.778054</td>\n",
       "      <td>44.0</td>\n",
       "      <td>(0.0, 0.0, 1.0)</td>\n",
       "      <td>199</td>\n",
       "      <td>393.0</td>\n",
       "    </tr>\n",
       "    <tr>\n",
       "      <th>15</th>\n",
       "      <td>7248</td>\n",
       "      <td>0.06255</td>\n",
       "      <td>124.732392</td>\n",
       "      <td>49.0</td>\n",
       "      <td>(0.0, 0.0, 1.0)</td>\n",
       "      <td>199</td>\n",
       "      <td>442.0</td>\n",
       "    </tr>\n",
       "    <tr>\n",
       "      <th>16</th>\n",
       "      <td>7908</td>\n",
       "      <td>0.06186</td>\n",
       "      <td>159.421521</td>\n",
       "      <td>44.0</td>\n",
       "      <td>(0.0, 0.0, 1.0)</td>\n",
       "      <td>199</td>\n",
       "      <td>486.0</td>\n",
       "    </tr>\n",
       "    <tr>\n",
       "      <th>17</th>\n",
       "      <td>8737</td>\n",
       "      <td>0.05948</td>\n",
       "      <td>176.368468</td>\n",
       "      <td>29.0</td>\n",
       "      <td>(0.0, 1.0, 0.0)</td>\n",
       "      <td>200</td>\n",
       "      <td>514.0</td>\n",
       "    </tr>\n",
       "    <tr>\n",
       "      <th>18</th>\n",
       "      <td>5267</td>\n",
       "      <td>0.05709</td>\n",
       "      <td>205.191012</td>\n",
       "      <td>47.0</td>\n",
       "      <td>(0.0, 0.0, 1.0)</td>\n",
       "      <td>200</td>\n",
       "      <td>561.0</td>\n",
       "    </tr>\n",
       "    <tr>\n",
       "      <th>19</th>\n",
       "      <td>7637</td>\n",
       "      <td>0.05392</td>\n",
       "      <td>329.155197</td>\n",
       "      <td>66.0</td>\n",
       "      <td>(0.0, 0.0, 1.0)</td>\n",
       "      <td>200</td>\n",
       "      <td>627.0</td>\n",
       "    </tr>\n",
       "  </tbody>\n",
       "</table>\n",
       "</div>"
      ],
      "text/plain": [
       "    Cluster Number  Solution  Cluster cost  Size of cluster         Fairness  \\\n",
       "0             4891   0.65305     34.312407             24.0  (0.0, 0.0, 1.0)   \n",
       "1             8018   0.36538     68.255547             42.0  (0.0, 0.0, 1.0)   \n",
       "2             6948   0.24385     35.991562             26.0  (0.0, 0.0, 1.0)   \n",
       "3             5795   0.19067    153.832743             41.0  (0.0, 0.0, 1.0)   \n",
       "4             7771   0.16965    115.546333             41.0  (0.0, 0.0, 1.0)   \n",
       "5             6906   0.15837     81.923156             16.0  (1.0, 1.0, 0.0)   \n",
       "6             6732   0.15190     90.552838             46.0  (0.0, 0.0, 1.0)   \n",
       "7             5728   0.14191     63.848650             40.0  (0.0, 0.0, 1.0)   \n",
       "8             4992   0.14137     40.790274             27.0  (0.0, 0.0, 1.0)   \n",
       "9             7809   0.13974    175.190601             51.0  (0.0, 0.0, 1.0)   \n",
       "10            6725   0.13279    128.153032             50.0  (0.0, 0.0, 1.0)   \n",
       "11            6087   0.12961    190.302710             56.0  (0.0, 0.0, 1.0)   \n",
       "12            7211   0.08030    105.299062             44.0  (0.0, 0.0, 1.0)   \n",
       "13            8428   0.07613    181.348195             44.0  (0.0, 0.0, 1.0)   \n",
       "14            8528   0.06781     67.778054             44.0  (0.0, 0.0, 1.0)   \n",
       "15            7248   0.06255    124.732392             49.0  (0.0, 0.0, 1.0)   \n",
       "16            7908   0.06186    159.421521             44.0  (0.0, 0.0, 1.0)   \n",
       "17            8737   0.05948    176.368468             29.0  (0.0, 1.0, 0.0)   \n",
       "18            5267   0.05709    205.191012             47.0  (0.0, 0.0, 1.0)   \n",
       "19            7637   0.05392    329.155197             66.0  (0.0, 0.0, 1.0)   \n",
       "\n",
       "    coverage  overlap  \n",
       "0         24      0.0  \n",
       "1         66      0.0  \n",
       "2         92      0.0  \n",
       "3        109     24.0  \n",
       "4        138     36.0  \n",
       "5        138     52.0  \n",
       "6        183     53.0  \n",
       "7        189     87.0  \n",
       "8        189    114.0  \n",
       "9        191    163.0  \n",
       "10       199    205.0  \n",
       "11       199    261.0  \n",
       "12       199    305.0  \n",
       "13       199    349.0  \n",
       "14       199    393.0  \n",
       "15       199    442.0  \n",
       "16       199    486.0  \n",
       "17       200    514.0  \n",
       "18       200    561.0  \n",
       "19       200    627.0  "
      ]
     },
     "execution_count": 309,
     "metadata": {},
     "output_type": "execute_result"
    }
   ],
   "source": [
    "df[:20]"
   ]
  },
  {
   "cell_type": "code",
   "execution_count": 310,
   "metadata": {},
   "outputs": [
    {
     "data": {
      "image/png": "[encoded data removed]",
      "text/plain": [
       "<Figure size 640x480 with 1 Axes>"
      ]
     },
     "metadata": {},
     "output_type": "display_data"
    }
   ],
   "source": [
    "cluster_num = 6906\n",
    "cluster_x = []\n",
    "cluster_y = []\n",
    "for i,j in enumerate(clusters[cluster_num][:n]):\n",
    "    if j == 1:\n",
    "        cluster_x.append(X[:,0][i])\n",
    "        cluster_y.append(X[:,1][i])\n",
    "\n",
    "scatter = plt.scatter(X[:,0],X[:,1],c=labels,label=\"Groups\")\n",
    "plt.scatter(cluster_x,cluster_y,marker=\"s\",edgecolors=\"r\",facecolors='none',s=100)\n",
    "plt.xlabel('x')\n",
    "plt.ylabel('y')\n",
    "plt.title('Cluster #' + str(cluster_num))\n",
    "plt.grid(True)\n",
    "plt.legend(handles=scatter.legend_elements()[0], labels=[0,1,2])\n",
    "plt.show()"
   ]
  },
  {
   "cell_type": "markdown",
   "metadata": {},
   "source": [
    "## Parameters"
   ]
  },
  {
   "cell_type": "code",
   "execution_count": 311,
   "metadata": {},
   "outputs": [],
   "source": [
    "Zvars = model.getVars()[:K] + model.getVars()[K + constrs_len-1:]\n",
    "Slack_vars_partition = model.getVars()[K : K + n]\n",
    "Slack_vars_represent = model.getVars()[K + n : K + n + l]"
   ]
  },
  {
   "cell_type": "code",
   "execution_count": 251,
   "metadata": {},
   "outputs": [
    {
     "data": {
      "text/plain": [
       "True"
      ]
     },
     "execution_count": 251,
     "metadata": {},
     "output_type": "execute_result"
    }
   ],
   "source": [
    "len(Zvars) + len(Slack_vars_partition) + len(Slack_vars_represent) == len(model.getVars())"
   ]
  },
  {
   "cell_type": "code",
   "execution_count": 255,
   "metadata": {},
   "outputs": [
    {
     "name": "stdout",
     "output_type": "stream",
     "text": [
      "Gurobi Optimizer version 11.0.0 build v11.0.0rc2 (win64 - Windows 11+.0 (22631.2))\n",
      "\n",
      "CPU model: Intel(R) Core(TM) i7-8550U CPU @ 1.80GHz, instruction set [SSE2|AVX|AVX2]\n",
      "Thread count: 4 physical cores, 8 logical processors, using up to 8 threads\n",
      "\n",
      "Optimize a model with 204 rows, 9587 columns and 794929 nonzeros\n",
      "Coefficient statistics:\n",
      "  Matrix range     [1e+00, 1e+00]\n",
      "  Objective range  [1e-01, 3e+03]\n",
      "  Bounds range     [0e+00, 0e+00]\n",
      "  RHS range        [1e+00, 5e+00]\n",
      "LP warm-start: use basis\n"
     ]
    },
    {
     "name": "stdout",
     "output_type": "stream",
     "text": [
      "Iteration    Objective       Primal Inf.    Dual Inf.      Time\n",
      "       0   -1.7235298e+37   1.865629e+35   5.386031e+05      0s\n",
      "     770    9.1214831e+02   0.000000e+00   0.000000e+00      3s\n",
      "\n",
      "Solved in 770 iterations and 2.60 seconds (1.82 work units)\n",
      "Optimal objective  9.121483104e+02\n"
     ]
    }
   ],
   "source": [
    "objective = gp.quicksum(Zvars[i] * dist_gurobi[i] for i in range(len(Zvars))) + \\\n",
    "    gp.quicksum(i * 1000 for i in Slack_vars_partition) + \\\n",
    "    gp.quicksum(i * 1000 for i in Slack_vars_represent)\n",
    "model.setObjective(objective, GRB.MINIMIZE)\n",
    "model.optimize()"
   ]
  },
  {
   "cell_type": "code",
   "execution_count": 271,
   "metadata": {},
   "outputs": [
    {
     "data": {
      "text/plain": [
       "(True, True)"
      ]
     },
     "execution_count": 271,
     "metadata": {},
     "output_type": "execute_result"
    }
   ],
   "source": [
    "sum(var.X for var in Slack_vars_partition) == 0, sum(var.X for var in Slack_vars_represent) == 0"
   ]
  },
  {
   "cell_type": "code",
   "execution_count": 275,
   "metadata": {},
   "outputs": [],
   "source": [
    "solution_no_slack = np.array([z.X for z in Zvars])"
   ]
  },
  {
   "cell_type": "code",
   "execution_count": 279,
   "metadata": {},
   "outputs": [
    {
     "data": {
      "text/plain": [
       "True"
      ]
     },
     "execution_count": 279,
     "metadata": {},
     "output_type": "execute_result"
    }
   ],
   "source": [
    "np.allclose(np.ones(n),[clusters[:len(solution_no_slack),i] @ solution_no_slack for i in range(n)])"
   ]
  },
  {
   "cell_type": "code",
   "execution_count": 281,
   "metadata": {},
   "outputs": [
    {
     "name": "stdout",
     "output_type": "stream",
     "text": [
      "1.0\n",
      "1.0\n",
      "3.9137174954378144\n"
     ]
    }
   ],
   "source": [
    "for i in range(n,n+l):\n",
    "    print(solution_no_slack @ clusters[:solution_no_slack.shape[0],i])"
   ]
  },
  {
   "cell_type": "code",
   "execution_count": 312,
   "metadata": {},
   "outputs": [],
   "source": [
    "df2 = create_df(solution_no_slack)"
   ]
  },
  {
   "cell_type": "code",
   "execution_count": 313,
   "metadata": {},
   "outputs": [
    {
     "data": {
      "text/html": [
       "<div>\n",
       "<style scoped>\n",
       "    .dataframe tbody tr th:only-of-type {\n",
       "        vertical-align: middle;\n",
       "    }\n",
       "\n",
       "    .dataframe tbody tr th {\n",
       "        vertical-align: top;\n",
       "    }\n",
       "\n",
       "    .dataframe thead th {\n",
       "        text-align: right;\n",
       "    }\n",
       "</style>\n",
       "<table border=\"1\" class=\"dataframe\">\n",
       "  <thead>\n",
       "    <tr style=\"text-align: right;\">\n",
       "      <th></th>\n",
       "      <th>Cluster Number</th>\n",
       "      <th>Solution</th>\n",
       "      <th>Cluster cost</th>\n",
       "      <th>Size of cluster</th>\n",
       "      <th>Fairness</th>\n",
       "      <th>coverage</th>\n",
       "      <th>overlap</th>\n",
       "    </tr>\n",
       "  </thead>\n",
       "  <tbody>\n",
       "    <tr>\n",
       "      <th>0</th>\n",
       "      <td>2</td>\n",
       "      <td>0.468874</td>\n",
       "      <td>17.206204</td>\n",
       "      <td>2.0</td>\n",
       "      <td>(1.0, 1.0, 0.0)</td>\n",
       "      <td>2</td>\n",
       "      <td>0.0</td>\n",
       "    </tr>\n",
       "    <tr>\n",
       "      <th>1</th>\n",
       "      <td>4891</td>\n",
       "      <td>0.396330</td>\n",
       "      <td>34.312407</td>\n",
       "      <td>24.0</td>\n",
       "      <td>(0.0, 0.0, 1.0)</td>\n",
       "      <td>26</td>\n",
       "      <td>0.0</td>\n",
       "    </tr>\n",
       "    <tr>\n",
       "      <th>2</th>\n",
       "      <td>5795</td>\n",
       "      <td>0.170712</td>\n",
       "      <td>153.832743</td>\n",
       "      <td>41.0</td>\n",
       "      <td>(0.0, 0.0, 1.0)</td>\n",
       "      <td>67</td>\n",
       "      <td>0.0</td>\n",
       "    </tr>\n",
       "    <tr>\n",
       "      <th>3</th>\n",
       "      <td>6906</td>\n",
       "      <td>0.112113</td>\n",
       "      <td>81.923156</td>\n",
       "      <td>16.0</td>\n",
       "      <td>(1.0, 1.0, 0.0)</td>\n",
       "      <td>76</td>\n",
       "      <td>7.0</td>\n",
       "    </tr>\n",
       "    <tr>\n",
       "      <th>4</th>\n",
       "      <td>6732</td>\n",
       "      <td>0.109275</td>\n",
       "      <td>90.552838</td>\n",
       "      <td>46.0</td>\n",
       "      <td>(0.0, 0.0, 1.0)</td>\n",
       "      <td>122</td>\n",
       "      <td>7.0</td>\n",
       "    </tr>\n",
       "    <tr>\n",
       "      <th>5</th>\n",
       "      <td>6725</td>\n",
       "      <td>0.096784</td>\n",
       "      <td>128.153032</td>\n",
       "      <td>50.0</td>\n",
       "      <td>(0.0, 0.0, 1.0)</td>\n",
       "      <td>133</td>\n",
       "      <td>46.0</td>\n",
       "    </tr>\n",
       "    <tr>\n",
       "      <th>6</th>\n",
       "      <td>6916</td>\n",
       "      <td>0.096208</td>\n",
       "      <td>67.763733</td>\n",
       "      <td>14.0</td>\n",
       "      <td>(1.0, 1.0, 0.0)</td>\n",
       "      <td>134</td>\n",
       "      <td>59.0</td>\n",
       "    </tr>\n",
       "    <tr>\n",
       "      <th>7</th>\n",
       "      <td>5201</td>\n",
       "      <td>0.084621</td>\n",
       "      <td>40.075361</td>\n",
       "      <td>2.0</td>\n",
       "      <td>(1.0, 1.0, 0.0)</td>\n",
       "      <td>135</td>\n",
       "      <td>60.0</td>\n",
       "    </tr>\n",
       "    <tr>\n",
       "      <th>8</th>\n",
       "      <td>6087</td>\n",
       "      <td>0.080534</td>\n",
       "      <td>190.302710</td>\n",
       "      <td>56.0</td>\n",
       "      <td>(0.0, 0.0, 1.0)</td>\n",
       "      <td>142</td>\n",
       "      <td>109.0</td>\n",
       "    </tr>\n",
       "    <tr>\n",
       "      <th>9</th>\n",
       "      <td>8428</td>\n",
       "      <td>0.074885</td>\n",
       "      <td>181.348195</td>\n",
       "      <td>44.0</td>\n",
       "      <td>(0.0, 0.0, 1.0)</td>\n",
       "      <td>147</td>\n",
       "      <td>148.0</td>\n",
       "    </tr>\n",
       "    <tr>\n",
       "      <th>10</th>\n",
       "      <td>5728</td>\n",
       "      <td>0.071942</td>\n",
       "      <td>63.848650</td>\n",
       "      <td>40.0</td>\n",
       "      <td>(0.0, 0.0, 1.0)</td>\n",
       "      <td>182</td>\n",
       "      <td>153.0</td>\n",
       "    </tr>\n",
       "    <tr>\n",
       "      <th>11</th>\n",
       "      <td>5581</td>\n",
       "      <td>0.071639</td>\n",
       "      <td>159.994256</td>\n",
       "      <td>47.0</td>\n",
       "      <td>(0.0, 0.0, 1.0)</td>\n",
       "      <td>184</td>\n",
       "      <td>198.0</td>\n",
       "    </tr>\n",
       "    <tr>\n",
       "      <th>12</th>\n",
       "      <td>6717</td>\n",
       "      <td>0.066903</td>\n",
       "      <td>185.554082</td>\n",
       "      <td>56.0</td>\n",
       "      <td>(0.0, 0.0, 1.0)</td>\n",
       "      <td>185</td>\n",
       "      <td>253.0</td>\n",
       "    </tr>\n",
       "    <tr>\n",
       "      <th>13</th>\n",
       "      <td>6948</td>\n",
       "      <td>0.066703</td>\n",
       "      <td>35.991562</td>\n",
       "      <td>26.0</td>\n",
       "      <td>(0.0, 0.0, 1.0)</td>\n",
       "      <td>185</td>\n",
       "      <td>279.0</td>\n",
       "    </tr>\n",
       "    <tr>\n",
       "      <th>14</th>\n",
       "      <td>8018</td>\n",
       "      <td>0.064247</td>\n",
       "      <td>68.255547</td>\n",
       "      <td>42.0</td>\n",
       "      <td>(0.0, 0.0, 1.0)</td>\n",
       "      <td>185</td>\n",
       "      <td>321.0</td>\n",
       "    </tr>\n",
       "    <tr>\n",
       "      <th>15</th>\n",
       "      <td>2327</td>\n",
       "      <td>0.060177</td>\n",
       "      <td>467.624907</td>\n",
       "      <td>58.0</td>\n",
       "      <td>(0.0, 0.0, 1.0)</td>\n",
       "      <td>197</td>\n",
       "      <td>367.0</td>\n",
       "    </tr>\n",
       "    <tr>\n",
       "      <th>16</th>\n",
       "      <td>7211</td>\n",
       "      <td>0.054637</td>\n",
       "      <td>105.299062</td>\n",
       "      <td>44.0</td>\n",
       "      <td>(0.0, 0.0, 1.0)</td>\n",
       "      <td>197</td>\n",
       "      <td>411.0</td>\n",
       "    </tr>\n",
       "    <tr>\n",
       "      <th>17</th>\n",
       "      <td>4604</td>\n",
       "      <td>0.054206</td>\n",
       "      <td>164.001583</td>\n",
       "      <td>43.0</td>\n",
       "      <td>(0.0, 0.0, 1.0)</td>\n",
       "      <td>198</td>\n",
       "      <td>453.0</td>\n",
       "    </tr>\n",
       "    <tr>\n",
       "      <th>18</th>\n",
       "      <td>7242</td>\n",
       "      <td>0.052812</td>\n",
       "      <td>114.200694</td>\n",
       "      <td>46.0</td>\n",
       "      <td>(0.0, 0.0, 1.0)</td>\n",
       "      <td>198</td>\n",
       "      <td>499.0</td>\n",
       "    </tr>\n",
       "    <tr>\n",
       "      <th>19</th>\n",
       "      <td>7229</td>\n",
       "      <td>0.052601</td>\n",
       "      <td>107.067791</td>\n",
       "      <td>43.0</td>\n",
       "      <td>(0.0, 0.0, 1.0)</td>\n",
       "      <td>198</td>\n",
       "      <td>542.0</td>\n",
       "    </tr>\n",
       "  </tbody>\n",
       "</table>\n",
       "</div>"
      ],
      "text/plain": [
       "    Cluster Number  Solution  Cluster cost  Size of cluster         Fairness  \\\n",
       "0                2  0.468874     17.206204              2.0  (1.0, 1.0, 0.0)   \n",
       "1             4891  0.396330     34.312407             24.0  (0.0, 0.0, 1.0)   \n",
       "2             5795  0.170712    153.832743             41.0  (0.0, 0.0, 1.0)   \n",
       "3             6906  0.112113     81.923156             16.0  (1.0, 1.0, 0.0)   \n",
       "4             6732  0.109275     90.552838             46.0  (0.0, 0.0, 1.0)   \n",
       "5             6725  0.096784    128.153032             50.0  (0.0, 0.0, 1.0)   \n",
       "6             6916  0.096208     67.763733             14.0  (1.0, 1.0, 0.0)   \n",
       "7             5201  0.084621     40.075361              2.0  (1.0, 1.0, 0.0)   \n",
       "8             6087  0.080534    190.302710             56.0  (0.0, 0.0, 1.0)   \n",
       "9             8428  0.074885    181.348195             44.0  (0.0, 0.0, 1.0)   \n",
       "10            5728  0.071942     63.848650             40.0  (0.0, 0.0, 1.0)   \n",
       "11            5581  0.071639    159.994256             47.0  (0.0, 0.0, 1.0)   \n",
       "12            6717  0.066903    185.554082             56.0  (0.0, 0.0, 1.0)   \n",
       "13            6948  0.066703     35.991562             26.0  (0.0, 0.0, 1.0)   \n",
       "14            8018  0.064247     68.255547             42.0  (0.0, 0.0, 1.0)   \n",
       "15            2327  0.060177    467.624907             58.0  (0.0, 0.0, 1.0)   \n",
       "16            7211  0.054637    105.299062             44.0  (0.0, 0.0, 1.0)   \n",
       "17            4604  0.054206    164.001583             43.0  (0.0, 0.0, 1.0)   \n",
       "18            7242  0.052812    114.200694             46.0  (0.0, 0.0, 1.0)   \n",
       "19            7229  0.052601    107.067791             43.0  (0.0, 0.0, 1.0)   \n",
       "\n",
       "    coverage  overlap  \n",
       "0          2      0.0  \n",
       "1         26      0.0  \n",
       "2         67      0.0  \n",
       "3         76      7.0  \n",
       "4        122      7.0  \n",
       "5        133     46.0  \n",
       "6        134     59.0  \n",
       "7        135     60.0  \n",
       "8        142    109.0  \n",
       "9        147    148.0  \n",
       "10       182    153.0  \n",
       "11       184    198.0  \n",
       "12       185    253.0  \n",
       "13       185    279.0  \n",
       "14       185    321.0  \n",
       "15       197    367.0  \n",
       "16       197    411.0  \n",
       "17       198    453.0  \n",
       "18       198    499.0  \n",
       "19       198    542.0  "
      ]
     },
     "execution_count": 313,
     "metadata": {},
     "output_type": "execute_result"
    }
   ],
   "source": [
    "df2[:20]"
   ]
  },
  {
   "cell_type": "code",
   "execution_count": 284,
   "metadata": {},
   "outputs": [],
   "source": [
    "c2 = [var.obj for var in model.getVars()]\n",
    "c2 == c"
   ]
  },
  {
   "cell_type": "code",
   "execution_count": 76,
   "metadata": {},
   "outputs": [],
   "source": [
    "def get_nonzeros(l):\n",
    "    res = []\n",
    "    for i,j in enumerate(l):\n",
    "        if j != 0:\n",
    "            res.append(i)\n",
    "    #print(l)\n",
    "    print(res)"
   ]
  }
 ],
 "metadata": {
  "kernelspec": {
   "display_name": "Python 3",
   "language": "python",
   "name": "python3"
  },
  "language_info": {
   "codemirror_mode": {
    "name": "ipython",
    "version": 3
   },
   "file_extension": ".py",
   "mimetype": "text/x-python",
   "name": "python",
   "nbconvert_exporter": "python",
   "pygments_lexer": "ipython3",
   "version": "3.10.11"
  }
 },
 "nbformat": 4,
 "nbformat_minor": 2
}
