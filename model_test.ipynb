{
 "cells": [
  {
   "cell_type": "code",
   "execution_count": 32,
   "metadata": {},
   "outputs": [],
   "source": [
    "import numpy as np\n",
    "import gurobipy as gp\n",
    "import matplotlib.pyplot as plt\n",
    "from gurobipy import GRB\n",
    "import re\n",
    "import datetime\n",
    "import ast\n",
    "from tqdm.notebook import tqdm"
   ]
  },
  {
   "cell_type": "code",
   "execution_count": 33,
   "metadata": {},
   "outputs": [],
   "source": [
    "from tests.utils import *"
   ]
  },
  {
   "cell_type": "markdown",
   "metadata": {},
   "source": [
    "## Master problem correctness"
   ]
  },
  {
   "cell_type": "code",
   "execution_count": 34,
   "metadata": {},
   "outputs": [
    {
     "name": "stderr",
     "output_type": "stream",
     "text": [
      "Optimizing Cluster Centers: 100%|██████████| 300/300 [00:00<00:00, 2084.49it/s, Status=SUCCESS]\n"
     ]
    }
   ],
   "source": [
    "file_name = \"test7_slack11\"\n",
    "n = 200\n",
    "K = 5\n",
    "seed = 5\n",
    "l = 3\n",
    "alpha = 1/2\n",
    "beta = [1, 1, 1]\n",
    "lower = 2\n",
    "upper = n\n",
    "M = 1e6\n",
    "np.random.seed(seed)\n",
    "labels = np.random.choice([0, 1, 2], p=[0.1, 0.2, 0.7], size=n)\n",
    "\n",
    "X, Y, archetype = synthetic_data(n, K, seed)\n",
    "_, _, q, clusters_init, _, t = initialize_clusters(\n",
    "    X, K, l, alpha, beta, n, labels, M, lower, upper)"
   ]
  },
  {
   "cell_type": "code",
   "execution_count": 37,
   "metadata": {},
   "outputs": [
    {
     "name": "stdout",
     "output_type": "stream",
     "text": [
      "Read LP format model from file ./tests/model_write/test7_slack11_out1000.lp\n",
      "Reading time = 0.64 seconds\n",
      ": 204 rows, 10180 columns, 889443 nonzeros\n",
      "204\n"
     ]
    }
   ],
   "source": [
    "model = gp.read(\"./tests/model_write/\" + file_name + \"_out1000.lp\")\n",
    "constrs_len = len(model.getConstrs())\n",
    "print(constrs_len)\n",
    "clusters = np.loadtxt(\"./tests/model_matrix/\"+file_name+\"_clusters.txt\")\n",
    "distances = np.loadtxt(\"./tests/model_matrix/\"+file_name+\"_distances.txt\")\n",
    "slacks = np.loadtxt(\"./tests/model_matrix/\"+file_name+\"_slacks.txt\")\n",
    "solutions = np.loadtxt(\"./tests/model_matrix/\"+file_name+\"_solutions.txt\")\n",
    "objectives = np.loadtxt(\"./tests/model_matrix/\"+file_name+\"_objectives.txt\")"
   ]
  },
  {
   "cell_type": "code",
   "execution_count": 38,
   "metadata": {},
   "outputs": [],
   "source": [
    "clusters = np.concatenate((clusters,np.ones(clusters.shape[0]).reshape(-1,1)),axis=1)\n",
    "A = [[model.getCoeff(constr, var) for var in model.getVars()] for constr in model.getConstrs()]\n",
    "b = [constr.rhs for constr in model.getConstrs()]\n",
    "c = [var.obj for var in model.getVars()]\n",
    "induced_mat = np.concatenate((clusters[:K,:],np.eye(constrs_len-1,constrs_len),clusters[K:,:]),axis=0).T\n",
    "A = np.array(A)"
   ]
  },
  {
   "cell_type": "markdown",
   "metadata": {},
   "source": [
    "Compare the linear system of constraints from the last iteration of Gurobi with the cluster representations"
   ]
  },
  {
   "cell_type": "code",
   "execution_count": 39,
   "metadata": {},
   "outputs": [
    {
     "data": {
      "text/plain": [
       "True"
      ]
     },
     "execution_count": 39,
     "metadata": {},
     "output_type": "execute_result"
    }
   ],
   "source": [
    "np.allclose(induced_mat[:,:A.shape[1]],A)"
   ]
  },
  {
   "cell_type": "code",
   "execution_count": 40,
   "metadata": {},
   "outputs": [],
   "source": [
    "dist_gurobi = np.array(c[:K] + c[K + constrs_len-1:])\n",
    "dist_stored = np.array(distances)[:dist_gurobi.shape[0]]"
   ]
  },
  {
   "cell_type": "markdown",
   "metadata": {},
   "source": [
    "Compare the coefficients of variables in the objective from the last iteration of Gurobi with the cluster representations"
   ]
  },
  {
   "cell_type": "code",
   "execution_count": 41,
   "metadata": {},
   "outputs": [
    {
     "data": {
      "text/plain": [
       "True"
      ]
     },
     "execution_count": 41,
     "metadata": {},
     "output_type": "execute_result"
    }
   ],
   "source": [
    "np.allclose(dist_gurobi,dist_stored)"
   ]
  },
  {
   "cell_type": "markdown",
   "metadata": {},
   "source": [
    "Reoptimize the model using the Gurobi output of the master problem from the last iteration"
   ]
  },
  {
   "cell_type": "code",
   "execution_count": 141,
   "metadata": {},
   "outputs": [
    {
     "name": "stdout",
     "output_type": "stream",
     "text": [
      "Gurobi Optimizer version 11.0.0 build v11.0.0rc2 (win64 - Windows 11+.0 (22631.2))\n",
      "\n",
      "CPU model: Intel(R) Core(TM) i7-8550U CPU @ 1.80GHz, instruction set [SSE2|AVX|AVX2]\n",
      "Thread count: 4 physical cores, 8 logical processors, using up to 8 threads\n",
      "\n",
      "Optimize a model with 204 rows, 10180 columns and 889443 nonzeros\n",
      "Coefficient statistics:\n",
      "  Matrix range     [1e+00, 1e+00]\n",
      "  Objective range  [5e-02, 4e+03]\n",
      "  Bounds range     [0e+00, 0e+00]\n",
      "  RHS range        [1e+00, 5e+00]\n",
      "\n",
      "Solved in 0 iterations and 0.01 seconds (0.00 work units)\n",
      "Optimal objective  7.764317062e+02\n"
     ]
    }
   ],
   "source": [
    "model.optimize()"
   ]
  },
  {
   "cell_type": "code",
   "execution_count": 144,
   "metadata": {},
   "outputs": [
    {
     "data": {
      "text/plain": [
       "(776.431706195563, 776.431706195563)"
      ]
     },
     "execution_count": 144,
     "metadata": {},
     "output_type": "execute_result"
    }
   ],
   "source": [
    "objectives[-1], model.ObjVal"
   ]
  },
  {
   "cell_type": "code",
   "execution_count": 145,
   "metadata": {},
   "outputs": [],
   "source": [
    "last_sol_gurobi = [var.X for var in model.getVars()]\n",
    "last_sol_gurobi_Z = last_sol_gurobi[:K] + last_sol_gurobi[K + constrs_len-1:]\n",
    "last_sol_gurobi_slackness = last_sol_gurobi[K:K + constrs_len-1]"
   ]
  },
  {
   "cell_type": "code",
   "execution_count": 160,
   "metadata": {},
   "outputs": [
    {
     "data": {
      "text/plain": [
       "(8330, 8319)"
      ]
     },
     "execution_count": 160,
     "metadata": {},
     "output_type": "execute_result"
    }
   ],
   "source": [
    "np.argmax(last_sol_gurobi_Z - solutions[-1]), np.argmin(last_sol_gurobi_Z - solutions[-1])"
   ]
  },
  {
   "cell_type": "code",
   "execution_count": 161,
   "metadata": {},
   "outputs": [
    {
     "data": {
      "text/plain": [
       "(0.32663158628942224, -0.32663)"
      ]
     },
     "execution_count": 161,
     "metadata": {},
     "output_type": "execute_result"
    }
   ],
   "source": [
    "np.max(last_sol_gurobi_Z - solutions[-1]), np.min(last_sol_gurobi_Z - solutions[-1])"
   ]
  },
  {
   "cell_type": "code",
   "execution_count": 162,
   "metadata": {},
   "outputs": [
    {
     "data": {
      "text/plain": [
       "(0.32663158628942224, 0.0)"
      ]
     },
     "execution_count": 162,
     "metadata": {},
     "output_type": "execute_result"
    }
   ],
   "source": [
    "last_sol_gurobi_Z[8330], last_sol_gurobi_Z[8319]"
   ]
  },
  {
   "cell_type": "code",
   "execution_count": null,
   "metadata": {},
   "outputs": [],
   "source": []
  },
  {
   "cell_type": "code",
   "execution_count": 169,
   "metadata": {},
   "outputs": [
    {
     "data": {
      "text/plain": [
       "True"
      ]
     },
     "execution_count": 169,
     "metadata": {},
     "output_type": "execute_result"
    }
   ],
   "source": [
    "np.allclose(clusters[8319,:], clusters[8330,:])"
   ]
  },
  {
   "cell_type": "markdown",
   "metadata": {},
   "source": [
    "check partition constraints"
   ]
  },
  {
   "cell_type": "code",
   "execution_count": 149,
   "metadata": {},
   "outputs": [],
   "source": [
    "partition_constr = [clusters[:solutions[-1].shape[0],i] @ solutions[-1] + slacks[-1][i] for i in range(n)]"
   ]
  },
  {
   "cell_type": "code",
   "execution_count": 150,
   "metadata": {},
   "outputs": [
    {
     "data": {
      "text/plain": [
       "True"
      ]
     },
     "execution_count": 150,
     "metadata": {},
     "output_type": "execute_result"
    }
   ],
   "source": [
    "np.allclose(np.array(partition_constr),np.ones(n),rtol=1e-3)"
   ]
  },
  {
   "cell_type": "markdown",
   "metadata": {},
   "source": [
    "check number of clusters constraint"
   ]
  },
  {
   "cell_type": "code",
   "execution_count": 151,
   "metadata": {},
   "outputs": [
    {
     "data": {
      "text/plain": [
       "4.99999"
      ]
     },
     "execution_count": 151,
     "metadata": {},
     "output_type": "execute_result"
    }
   ],
   "source": [
    "np.sum(solutions[-1])"
   ]
  },
  {
   "cell_type": "markdown",
   "metadata": {},
   "source": [
    "checks the cluster representation of t of the same as the t in the LP"
   ]
  },
  {
   "cell_type": "code",
   "execution_count": 152,
   "metadata": {},
   "outputs": [],
   "source": [
    "m = solutions[-1].shape[0]"
   ]
  },
  {
   "cell_type": "code",
   "execution_count": 153,
   "metadata": {},
   "outputs": [],
   "source": [
    "t1 = []\n",
    "t2 = []\n",
    "for i in (range(m)):\n",
    "    t_vector = []\n",
    "    for j in range(l):\n",
    "        cluster = clusters[i,:n]\n",
    "        size = sum(cluster)\n",
    "        group_size = cluster @ q[j]\n",
    "        if group_size >= alpha * size:\n",
    "            t_vector.append(1)\n",
    "        else:\n",
    "            t_vector.append(0)\n",
    "    t1.append(t_vector)\n",
    "    t2.append(clusters[i,n:n+l])"
   ]
  },
  {
   "cell_type": "code",
   "execution_count": 154,
   "metadata": {},
   "outputs": [
    {
     "data": {
      "text/plain": [
       "True"
      ]
     },
     "execution_count": 154,
     "metadata": {},
     "output_type": "execute_result"
    }
   ],
   "source": [
    "np.allclose(t1,t2,rtol=1e-3)"
   ]
  },
  {
   "cell_type": "markdown",
   "metadata": {},
   "source": [
    "check fairness constraint"
   ]
  },
  {
   "cell_type": "code",
   "execution_count": 155,
   "metadata": {},
   "outputs": [
    {
     "name": "stdout",
     "output_type": "stream",
     "text": [
      "0.9999958881474629\n",
      "1.0\n",
      "3.7494500000000004\n"
     ]
    }
   ],
   "source": [
    "for i in range(n,n+l):\n",
    "    print(solutions[-1] @ clusters[:solutions[-1].shape[0],i] + slacks[-1][i])"
   ]
  },
  {
   "cell_type": "markdown",
   "metadata": {},
   "source": [
    "compares the solutions from Gurobi's log file with the stored solutions"
   ]
  },
  {
   "cell_type": "code",
   "execution_count": 120,
   "metadata": {},
   "outputs": [],
   "source": [
    "import pandas as pd"
   ]
  },
  {
   "cell_type": "code",
   "execution_count": 121,
   "metadata": {},
   "outputs": [],
   "source": [
    "df = pd.read_csv(\"./tests/model_write/\" + file_name + \"_out501.sol\", sep = \" \")"
   ]
  },
  {
   "cell_type": "code",
   "execution_count": 122,
   "metadata": {},
   "outputs": [],
   "source": [
    "last_solution_gurobi = df['Solution'][1:].to_numpy(dtype=float)"
   ]
  },
  {
   "cell_type": "code",
   "execution_count": 124,
   "metadata": {},
   "outputs": [],
   "source": [
    "last_solution_gurobi_Z = np.concatenate((last_solution_gurobi[:K], last_solution_gurobi[K + constrs_len - 1:]))"
   ]
  },
  {
   "cell_type": "code",
   "execution_count": 125,
   "metadata": {},
   "outputs": [],
   "source": [
    "last_solution_gurobi_slackness = last_solution_gurobi[K:K + constrs_len - 1]"
   ]
  },
  {
   "cell_type": "code",
   "execution_count": 131,
   "metadata": {},
   "outputs": [
    {
     "data": {
      "text/plain": [
       "True"
      ]
     },
     "execution_count": 131,
     "metadata": {},
     "output_type": "execute_result"
    }
   ],
   "source": [
    "np.allclose(last_solution_gurobi_slackness, slacks[500], atol = 1e-3)"
   ]
  },
  {
   "cell_type": "code",
   "execution_count": 136,
   "metadata": {},
   "outputs": [
    {
     "data": {
      "text/plain": [
       "True"
      ]
     },
     "execution_count": 136,
     "metadata": {},
     "output_type": "execute_result"
    }
   ],
   "source": [
    "np.allclose(last_solution_gurobi_Z, solutions[500][:last_solution_gurobi_Z.shape[0]], atol = 1e-3)"
   ]
  },
  {
   "cell_type": "markdown",
   "metadata": {},
   "source": [
    "Gurobi doesn't generate the same solution for the 2 solves, and it may be caused by similar costs of clusters"
   ]
  },
  {
   "cell_type": "markdown",
   "metadata": {},
   "source": [
    "## Visualizations"
   ]
  },
  {
   "cell_type": "code",
   "execution_count": null,
   "metadata": {},
   "outputs": [],
   "source": []
  },
  {
   "cell_type": "markdown",
   "metadata": {},
   "source": [
    "## Parameters"
   ]
  },
  {
   "cell_type": "code",
   "execution_count": 23,
   "metadata": {},
   "outputs": [],
   "source": [
    "Zvars = model.getVars()[:K] + model.getVars()[K + constrs_len-1:]\n",
    "Slack_vars_partition = model.getVars()[K : K + n]\n",
    "Slack_vars_represent = model.getVars()[K + n : K + n + l]"
   ]
  },
  {
   "cell_type": "code",
   "execution_count": 24,
   "metadata": {},
   "outputs": [
    {
     "data": {
      "text/plain": [
       "True"
      ]
     },
     "execution_count": 24,
     "metadata": {},
     "output_type": "execute_result"
    }
   ],
   "source": [
    "len(Zvars) + len(Slack_vars_partition) + len(Slack_vars_represent) == len(model.getVars())"
   ]
  },
  {
   "cell_type": "code",
   "execution_count": 25,
   "metadata": {},
   "outputs": [
    {
     "name": "stdout",
     "output_type": "stream",
     "text": [
      "Gurobi Optimizer version 11.0.0 build v11.0.0rc2 (win64 - Windows 11+.0 (22631.2))\n",
      "\n",
      "CPU model: Intel(R) Core(TM) i7-8550U CPU @ 1.80GHz, instruction set [SSE2|AVX|AVX2]\n",
      "Thread count: 4 physical cores, 8 logical processors, using up to 8 threads\n",
      "\n",
      "Optimize a model with 204 rows, 10184 columns and 815156 nonzeros\n",
      "Model fingerprint: 0x2d71cc41\n",
      "Coefficient statistics:\n",
      "  Matrix range     [1e+00, 1e+00]\n",
      "  Objective range  [2e+00, 4e+03]\n",
      "  Bounds range     [0e+00, 0e+00]\n",
      "  RHS range        [1e+00, 5e+00]\n"
     ]
    },
    {
     "name": "stdout",
     "output_type": "stream",
     "text": [
      "Presolve removed 3 rows and 869 columns\n",
      "Presolve time: 0.42s\n",
      "Presolved: 201 rows, 9315 columns, 765410 nonzeros\n",
      "\n",
      "Concurrent LP optimizer: dual simplex and barrier\n",
      "Showing barrier log only...\n",
      "\n",
      "Ordering time: 0.01s\n",
      "\n",
      "Barrier statistics:\n",
      " AA' NZ     : 2.010e+04\n",
      " Factor NZ  : 2.030e+04 (roughly 4 MB of memory)\n",
      " Factor Ops : 2.727e+06 (less than 1 second per iteration)\n",
      " Threads    : 3\n",
      "\n",
      "Barrier performed 0 iterations in 0.67 seconds (0.34 work units)\n",
      "Barrier solve interrupted - model solved by another algorithm\n",
      "\n",
      "\n",
      "Solved with dual simplex\n",
      "Iteration    Objective       Primal Inf.    Dual Inf.      Time\n",
      "       6    2.9098429e+01   0.000000e+00   0.000000e+00      1s\n",
      "\n",
      "Solved in 6 iterations and 0.77 seconds (0.36 work units)\n",
      "Optimal objective  2.909842886e+01\n"
     ]
    }
   ],
   "source": [
    "objective = gp.quicksum(Zvars[i] * dist_gurobi[i] for i in range(len(Zvars))) + \\\n",
    "    gp.quicksum(i * 0 for i in Slack_vars_partition) + \\\n",
    "    gp.quicksum(i * 0 for i in Slack_vars_represent)\n",
    "model.setObjective(objective, GRB.MINIMIZE)\n",
    "model.optimize()"
   ]
  },
  {
   "cell_type": "code",
   "execution_count": 26,
   "metadata": {},
   "outputs": [],
   "source": [
    "c2 = [var.obj for var in model.getVars()]"
   ]
  },
  {
   "cell_type": "code",
   "execution_count": 27,
   "metadata": {},
   "outputs": [
    {
     "data": {
      "text/plain": [
       "False"
      ]
     },
     "execution_count": 27,
     "metadata": {},
     "output_type": "execute_result"
    }
   ],
   "source": [
    "c2 == c"
   ]
  },
  {
   "cell_type": "code",
   "execution_count": 76,
   "metadata": {},
   "outputs": [],
   "source": [
    "def get_nonzeros(l):\n",
    "    res = []\n",
    "    for i,j in enumerate(l):\n",
    "        if j != 0:\n",
    "            res.append(i)\n",
    "    #print(l)\n",
    "    print(res)"
   ]
  }
 ],
 "metadata": {
  "kernelspec": {
   "display_name": "Python 3",
   "language": "python",
   "name": "python3"
  },
  "language_info": {
   "codemirror_mode": {
    "name": "ipython",
    "version": 3
   },
   "file_extension": ".py",
   "mimetype": "text/x-python",
   "name": "python",
   "nbconvert_exporter": "python",
   "pygments_lexer": "ipython3",
   "version": "3.10.11"
  }
 },
 "nbformat": 4,
 "nbformat_minor": 2
}
